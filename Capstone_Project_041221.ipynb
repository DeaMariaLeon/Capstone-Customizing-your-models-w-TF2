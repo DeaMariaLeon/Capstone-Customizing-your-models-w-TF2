{
  "nbformat": 4,
  "nbformat_minor": 0,
  "metadata": {
    "kernelspec": {
      "display_name": "2021_07_env",
      "language": "python",
      "name": "2021_07_env"
    },
    "language_info": {
      "codemirror_mode": {
        "name": "ipython",
        "version": 3
      },
      "file_extension": ".py",
      "mimetype": "text/x-python",
      "name": "python",
      "nbconvert_exporter": "python",
      "pygments_lexer": "ipython3",
      "version": "3.7.3"
    },
    "colab": {
      "name": "Capstone Project - 041221.ipynb",
      "provenance": [],
      "collapsed_sections": []
    },
    "accelerator": "GPU"
  },
  "cells": [
    {
      "cell_type": "markdown",
      "metadata": {
        "id": "86pN_rz6b1sL"
      },
      "source": [
        "# Capstone Project\n",
        "## Neural translation model\n",
        "### Instructions\n",
        "\n",
        "In this notebook, you will create a neural network that translates from English to German. You will use concepts from throughout this course, including building more flexible model architectures, freezing layers, data processing pipeline and sequence modelling.\n",
        "\n",
        "This project is peer-assessed. Within this notebook you will find instructions in each section for how to complete the project. Pay close attention to the instructions as the peer review will be carried out according to a grading rubric that checks key parts of the project instructions. Feel free to add extra cells into the notebook as required.\n",
        "\n",
        "### How to submit\n",
        "\n",
        "When you have completed the Capstone project notebook, you will submit a pdf of the notebook for peer review. First ensure that the notebook has been fully executed from beginning to end, and all of the cell outputs are visible. This is important, as the grading rubric depends on the reviewer being able to view the outputs of your notebook. Save the notebook as a pdf (File -> Download as -> PDF via LaTeX). You should then submit this pdf for review.\n",
        "\n",
        "### Let's get started!\n",
        "\n",
        "We'll start by running some imports, and loading the dataset. For this project you are free to make further imports throughout the notebook as you wish. "
      ]
    },
    {
      "cell_type": "code",
      "metadata": {
        "colab": {
          "base_uri": "https://localhost:8080/"
        },
        "id": "4IuZoLhvb_0N",
        "outputId": "27d0d69e-8cc3-4b8c-bc5d-0a76426dbfc2"
      },
      "source": [
        "from google.colab import drive\n",
        "drive.mount('gdrive')\n",
        "directory = \"gdrive/My Drive/Colab Notebooks/Curso tensorflow2/capstone Customise your model\""
      ],
      "execution_count": 1,
      "outputs": [
        {
          "output_type": "stream",
          "name": "stdout",
          "text": [
            "Mounted at gdrive\n"
          ]
        }
      ]
    },
    {
      "cell_type": "code",
      "metadata": {
        "id": "9oWG-SH1b1sQ"
      },
      "source": [
        "import tensorflow as tf\n",
        "import tensorflow_hub as hub\n",
        "import unicodedata\n",
        "import re\n",
        "\n",
        "from tensorflow.keras.preprocessing.text import Tokenizer\n",
        "import numpy as np\n",
        "from tensorflow.keras.preprocessing.sequence import pad_sequences\n",
        "from sklearn.model_selection import train_test_split\n",
        "from tensorflow.keras.layers import Layer, Input, Masking, LSTM, Embedding, Dense\n",
        "\n",
        "from tensorflow.keras.models import Model\n",
        "import matplotlib.pyplot as plt\n"
      ],
      "execution_count": 2,
      "outputs": []
    },
    {
      "cell_type": "code",
      "metadata": {
        "colab": {
          "base_uri": "https://localhost:8080/",
          "height": 38
        },
        "id": "wTrWIwbpb1sT",
        "outputId": "6212d9bf-8ea1-485c-dd79-92531b126fdc"
      },
      "source": [
        "tf.__version__"
      ],
      "execution_count": 3,
      "outputs": [
        {
          "output_type": "execute_result",
          "data": {
            "application/vnd.google.colaboratory.intrinsic+json": {
              "type": "string"
            },
            "text/plain": [
              "'2.7.0'"
            ]
          },
          "metadata": {},
          "execution_count": 3
        }
      ]
    },
    {
      "cell_type": "code",
      "metadata": {
        "colab": {
          "base_uri": "https://localhost:8080/"
        },
        "id": "OiSYFRVIcUUD",
        "outputId": "21f128ca-f31d-4ce1-a8bd-4752ef154ba6"
      },
      "source": [
        "print(\"GPU name: {}\".format(tf.test.gpu_device_name()))"
      ],
      "execution_count": 5,
      "outputs": [
        {
          "output_type": "stream",
          "name": "stdout",
          "text": [
            "GPU name: /device:GPU:0\n"
          ]
        }
      ]
    },
    {
      "cell_type": "markdown",
      "metadata": {
        "id": "Req2NTe8b1sT"
      },
      "source": [
        "![Flags overview image](data/germany_uk_flags.png)\n",
        "\n",
        "For the capstone project, you will use a language dataset from http://www.manythings.org/anki/ to build a neural translation model. This dataset consists of over 200,000 pairs of sentences in English and German. In order to make the training quicker, we will restrict to our dataset to 20,000 pairs. Feel free to change this if you wish - the size of the dataset used is not part of the grading rubric.\n",
        "\n",
        "Your goal is to develop a neural translation model from English to German, making use of a pre-trained English word embedding module."
      ]
    },
    {
      "cell_type": "code",
      "metadata": {
        "id": "gFesgBqGb1sU"
      },
      "source": [
        "# Run this cell to load the dataset\n",
        "\n",
        "NUM_EXAMPLES = 20000\n",
        "data_examples = []\n",
        "with open(directory + '/' + 'data/deu.txt', 'r', encoding='utf8') as f:\n",
        "    for line in f.readlines():\n",
        "        if len(data_examples) < NUM_EXAMPLES:\n",
        "            data_examples.append(line)\n",
        "        else:\n",
        "            break"
      ],
      "execution_count": 6,
      "outputs": []
    },
    {
      "cell_type": "code",
      "metadata": {
        "id": "5KwOftwVb1sU"
      },
      "source": [
        "# These functions preprocess English and German sentences\n",
        "\n",
        "def unicode_to_ascii(s):\n",
        "    return ''.join(c for c in unicodedata.normalize('NFD', s) if \n",
        "                   unicodedata.category(c) != 'Mn')\n",
        "\n",
        "def preprocess_sentence(sentence):\n",
        "    sentence = sentence.lower().strip()\n",
        "    sentence = re.sub(r\"ü\", 'ue', sentence)\n",
        "    sentence = re.sub(r\"ä\", 'ae', sentence)\n",
        "    sentence = re.sub(r\"ö\", 'oe', sentence)\n",
        "    sentence = re.sub(r'ß', 'ss', sentence)\n",
        "    \n",
        "    sentence = unicode_to_ascii(sentence)\n",
        "    sentence = re.sub(r\"([?.!,])\", r\" \\1 \", sentence)\n",
        "    sentence = re.sub(r\"[^a-z?.!,']+\", \" \", sentence)\n",
        "    sentence = re.sub(r'[\" \"]+', \" \", sentence)\n",
        "    \n",
        "    return sentence.strip()"
      ],
      "execution_count": 7,
      "outputs": []
    },
    {
      "cell_type": "markdown",
      "metadata": {
        "id": "aeualiK_b1sV"
      },
      "source": [
        "#### The custom translation model\n",
        "The following is a schematic of the custom translation model architecture you will develop in this project.\n",
        "\n",
        "![Model Schematic](data/neural_translation_model.png)\n",
        "\n",
        "Key:\n",
        "![Model key](data/neural_translation_model_key.png)\n",
        "\n",
        "The custom model consists of an encoder RNN and a decoder RNN. The encoder takes words of an English sentence as input, and uses a pre-trained word embedding to embed the words into a 128-dimensional space. To indicate the end of the input sentence, a special end token (in the same 128-dimensional space) is passed in as an input. This token is a TensorFlow Variable that is learned in the training phase (unlike the pre-trained word embedding, which is frozen).\n",
        "\n",
        "The decoder RNN takes the internal state of the encoder network as its initial state. A start token is passed in as the first input, which is embedded using a learned German word embedding. The decoder RNN then makes a prediction for the next German word, which during inference is then passed in as the following input, and this process is repeated until the special `<end>` token is emitted from the decoder."
      ]
    },
    {
      "cell_type": "markdown",
      "metadata": {
        "id": "nJFtAOX0b1sW"
      },
      "source": [
        "## 1. Text preprocessing\n",
        "* Create separate lists of English and German sentences, and preprocess them using the `preprocess_sentence` function provided for you above.\n",
        "* Add a special `\"<start>\"` and `\"<end>\"` token to the beginning and end of every German sentence.\n",
        "* Use the Tokenizer class from the `tf.keras.preprocessing.text` module to tokenize the German sentences, ensuring that no character filters are applied. _Hint: use the Tokenizer's \"filter\" keyword argument._\n",
        "* Print out at least 5 randomly chosen examples of (preprocessed) English and German sentence pairs. For the German sentence, print out the text (with start and end tokens) as well as the tokenized sequence.\n",
        "* Pad the end of the tokenized German sequences with zeros, and batch the complete set of sequences into one numpy array."
      ]
    },
    {
      "cell_type": "code",
      "metadata": {
        "colab": {
          "base_uri": "https://localhost:8080/",
          "height": 38
        },
        "id": "tfwepVmab1sX",
        "outputId": "6f1f1f90-73d3-4ea4-ee8b-568fad758c58"
      },
      "source": [
        "data_examples[0]"
      ],
      "execution_count": 8,
      "outputs": [
        {
          "output_type": "execute_result",
          "data": {
            "application/vnd.google.colaboratory.intrinsic+json": {
              "type": "string"
            },
            "text/plain": [
              "'Hi.\\tHallo!\\tCC-BY 2.0 (France) Attribution: tatoeba.org #538123 (CM) & #380701 (cburgmer)\\n'"
            ]
          },
          "metadata": {},
          "execution_count": 8
        }
      ]
    },
    {
      "cell_type": "code",
      "metadata": {
        "id": "mWsCoCThb1sX"
      },
      "source": [
        "examples_num = len(data_examples)\n",
        "eng_sent = [preprocess_sentence(re.split(r'(.*)\\t(.*)\\t',data_examples[x])[1]) for x in range(examples_num)]\n",
        "ger_sent = [\"<start> \"+ preprocess_sentence(re.split(r'(.*)\\t(.*)\\t',data_examples[x])[2])+\" <end>\" for x in range(examples_num)]\n",
        "#print(eng_sent[0:3])\n",
        "#print(ger_sent[0:3])"
      ],
      "execution_count": 9,
      "outputs": []
    },
    {
      "cell_type": "code",
      "metadata": {
        "colab": {
          "base_uri": "https://localhost:8080/"
        },
        "id": "DMB7OIQXb1sY",
        "outputId": "d243d49a-9bb8-4c0f-9807-0619cab2a2bc"
      },
      "source": [
        "\n",
        "tokenizer = Tokenizer(filters='')\n",
        "tokenizer.fit_on_texts(ger_sent)\n",
        "strings_to_sequences = tokenizer.texts_to_sequences(ger_sent)\n",
        "preprocessed_data = pad_sequences(strings_to_sequences, padding='post')\n",
        "\n",
        "random_idx = np.random.randint(examples_num, size=5)\n",
        "print(\"Random samples: \",random_idx)\n",
        "for i in random_idx:\n",
        "    print(eng_sent[i], ger_sent[i],strings_to_sequences[i])\n",
        "    #print(eng_sent[i], ger_sent[i],preprocessed_data[i])"
      ],
      "execution_count": 10,
      "outputs": [
        {
          "output_type": "stream",
          "name": "stdout",
          "text": [
            "Random samples:  [ 7971 19153  3819 10290  8216]\n",
            "may i join you ? <start> kann ich mich euch anschliessen ? <end> [1, 30, 4, 22, 57, 3956, 7, 2]\n",
            "i didn't get much . <start> ich habe nicht viel bekommen . <end> [1, 4, 18, 12, 115, 347, 3, 2]\n",
            "stop filming . <start> hoer auf zu filmen ! <end> [1, 153, 29, 20, 2491, 9, 2]\n",
            "i am speechless . <start> ich bin sprachlos . <end> [1, 4, 15, 2118, 3, 2]\n",
            "tell everybody . <start> sagen sie es allen . <end> [1, 220, 8, 10, 654, 3, 2]\n"
          ]
        }
      ]
    },
    {
      "cell_type": "code",
      "metadata": {
        "colab": {
          "base_uri": "https://localhost:8080/"
        },
        "id": "YJeLSQ0-b1sY",
        "outputId": "097adcb0-e440-4291-fb27-981b30571063"
      },
      "source": [
        "print(preprocessed_data.shape)\n"
      ],
      "execution_count": 11,
      "outputs": [
        {
          "output_type": "stream",
          "name": "stdout",
          "text": [
            "(20000, 14)\n"
          ]
        }
      ]
    },
    {
      "cell_type": "markdown",
      "metadata": {
        "id": "CNBwAnyob1sZ"
      },
      "source": [
        "## 2. Prepare the data with tf.data.Dataset objects"
      ]
    },
    {
      "cell_type": "markdown",
      "metadata": {
        "id": "lCy4sMgHb1sZ"
      },
      "source": [
        "#### Load the embedding layer\n",
        "As part of the dataset preproceessing for this project, you will use a pre-trained English word embedding module from TensorFlow Hub. The URL for the module is https://tfhub.dev/google/tf2-preview/nnlm-en-dim128-with-normalization/1. This module has also been made available as a complete saved model in the folder `'./models/tf2-preview_nnlm-en-dim128_1'`. \n",
        "\n",
        "This embedding takes a batch of text tokens in a 1-D tensor of strings as input. It then embeds the separate tokens into a 128-dimensional space. \n",
        "\n",
        "The code to load and test the embedding layer is provided for you below.\n",
        "\n",
        "**NB:** this model can also be used as a sentence embedding module. The module will process each token by removing punctuation and splitting on spaces. It then averages the word embeddings over a sentence to give a single embedding vector. However, we will use it only as a word embedding module, and will pass each word in the input sentence as a separate token."
      ]
    },
    {
      "cell_type": "code",
      "metadata": {
        "id": "NDV6mIe6b1sa"
      },
      "source": [
        "# Load embedding module from Tensorflow Hub\n",
        "\n",
        "embedding_layer = hub.KerasLayer(\"https://tfhub.dev/google/tf2-preview/nnlm-en-dim128/1\", output_shape=[128], input_shape=[], dtype=tf.string)\n",
        "\n",
        "#embedding_layer = hub.KerasLayer(directory + '/' + \"./models/tf2-preview_nnlm-en-dim128_1\", \n",
        "#                                 output_shape=[128], input_shape=[], dtype=tf.string)"
      ],
      "execution_count": 12,
      "outputs": []
    },
    {
      "cell_type": "code",
      "metadata": {
        "colab": {
          "base_uri": "https://localhost:8080/"
        },
        "id": "1T6dAvDTb1sa",
        "outputId": "6df441fb-2725-4807-ba28-032ecc59cd2c"
      },
      "source": [
        "# Test the layer\n",
        "\n",
        "embedding_layer(tf.constant([\"these\", \"aren't\", \"the\", \"droids\", \"you're\", \"looking\", \"for\"])).shape"
      ],
      "execution_count": 13,
      "outputs": [
        {
          "output_type": "execute_result",
          "data": {
            "text/plain": [
              "TensorShape([7, 128])"
            ]
          },
          "metadata": {},
          "execution_count": 13
        }
      ]
    },
    {
      "cell_type": "markdown",
      "metadata": {
        "id": "FI3h9VAYb1sa"
      },
      "source": [
        "You should now prepare the training and validation Datasets.\n",
        "\n",
        "* Create a random training and validation set split of the data, reserving e.g. 20% of the data for validation (NB: each English dataset example is a single sentence string, and each German dataset example is a sequence of padded integer tokens).\n",
        "* Load the training and validation sets into a tf.data.Dataset object, passing in a tuple of English and German data for both training and validation sets.\n",
        "* Create a function to map over the datasets that splits each English sentence at spaces. Apply this function to both Dataset objects using the map method. _Hint: look at the tf.strings.split function._\n",
        "* Create a function to map over the datasets that embeds each sequence of English words using the loaded embedding layer/model. Apply this function to both Dataset objects using the map method.\n",
        "* Create a function to filter out dataset examples where the English sentence is more than 13 (embedded) tokens in length. Apply this function to both Dataset objects using the filter method.\n",
        "* Create a function to map over the datasets that pads each English sequence of embeddings with some distinct padding value before the sequence, so that each sequence is length 13. Apply this function to both Dataset objects using the map method. _Hint: look at the tf.pad function. You can extract a Tensor shape using tf.shape; you might also find the tf.math.maximum function useful._\n",
        "* Batch both training and validation Datasets with a batch size of 16.\n",
        "* Print the `element_spec` property for the training and validation Datasets. \n",
        "* Using the Dataset `.take(1)` method, print the shape of the English data example from the training Dataset.\n",
        "* Using the Dataset `.take(1)` method, print the German data example Tensor from the validation Dataset."
      ]
    },
    {
      "cell_type": "code",
      "metadata": {
        "id": "MTwJXbwnb1sb"
      },
      "source": [
        "X_train, X_val, y_train, y_val = train_test_split(eng_sent, preprocessed_data, test_size=0.2)\n"
      ],
      "execution_count": 14,
      "outputs": []
    },
    {
      "cell_type": "code",
      "metadata": {
        "id": "kBpJTISPb1sb"
      },
      "source": [
        "train_dataset = tf.data.Dataset.from_tensor_slices((X_train, y_train))\n",
        "val_dataset = tf.data.Dataset.from_tensor_slices((X_val, y_val))\n"
      ],
      "execution_count": 15,
      "outputs": []
    },
    {
      "cell_type": "code",
      "metadata": {
        "id": "AaPpT2UNb1sb"
      },
      "source": [
        "def split_fun(x, y):\n",
        "    \n",
        "    return tf.strings.split(x, sep=' '), y\n",
        "    \n",
        "train_dataset = train_dataset.map(split_fun)\n",
        "val_dataset = val_dataset.map(split_fun)"
      ],
      "execution_count": 16,
      "outputs": []
    },
    {
      "cell_type": "code",
      "metadata": {
        "id": "MFnqzkDCb1sc"
      },
      "source": [
        "def emb_fun(x, y):\n",
        "    return embedding_layer(x), y\n",
        "\n",
        "train_dataset = train_dataset.map(emb_fun)\n",
        "val_dataset = val_dataset.map(emb_fun)\n"
      ],
      "execution_count": 17,
      "outputs": []
    },
    {
      "cell_type": "code",
      "metadata": {
        "id": "11WvRq5Xb1sc"
      },
      "source": [
        "def data_filter(x, y):\n",
        "   \n",
        "    return tf.shape(x)[0]<=13\n",
        " \n",
        "train_dataset = train_dataset.filter(data_filter)\n",
        "val_dataset = val_dataset.filter(data_filter)\n"
      ],
      "execution_count": 18,
      "outputs": []
    },
    {
      "cell_type": "code",
      "metadata": {
        "id": "T2iklw94b1sc"
      },
      "source": [
        "def padding_fun(x, y):\n",
        "  \n",
        "    padding = [[13 - tf.shape(x)[0],0],[0,0]]\n",
        "   \n",
        "    return tf.pad(x, padding), y\n",
        "\n",
        "train_dataset = train_dataset.map(padding_fun)\n",
        "val_dataset = val_dataset.map(padding_fun)\n"
      ],
      "execution_count": 19,
      "outputs": []
    },
    {
      "cell_type": "code",
      "metadata": {
        "id": "PkleqNJab1sc"
      },
      "source": [
        "train_dataset = train_dataset.batch(16, drop_remainder=True)\n",
        "val_dataset = val_dataset.batch(16, drop_remainder=True)"
      ],
      "execution_count": 20,
      "outputs": []
    },
    {
      "cell_type": "code",
      "metadata": {
        "colab": {
          "base_uri": "https://localhost:8080/"
        },
        "id": "WpiAgCBPb1sd",
        "outputId": "e36c0c36-1e74-44d6-ad84-bfe4dca99975"
      },
      "source": [
        "print(train_dataset.element_spec)\n",
        "print(val_dataset.element_spec)"
      ],
      "execution_count": 21,
      "outputs": [
        {
          "output_type": "stream",
          "name": "stdout",
          "text": [
            "(TensorSpec(shape=(16, None, 128), dtype=tf.float32, name=None), TensorSpec(shape=(16, 14), dtype=tf.int32, name=None))\n",
            "(TensorSpec(shape=(16, None, 128), dtype=tf.float32, name=None), TensorSpec(shape=(16, 14), dtype=tf.int32, name=None))\n"
          ]
        }
      ]
    },
    {
      "cell_type": "code",
      "metadata": {
        "colab": {
          "base_uri": "https://localhost:8080/"
        },
        "id": "sNEnEqW0b1sd",
        "outputId": "5d44bdbd-c175-4781-95e2-a74ac4552dfb"
      },
      "source": [
        "for element in train_dataset.take(1):\n",
        "    print(element[0].shape)"
      ],
      "execution_count": 22,
      "outputs": [
        {
          "output_type": "stream",
          "name": "stdout",
          "text": [
            "(16, 13, 128)\n"
          ]
        }
      ]
    },
    {
      "cell_type": "code",
      "metadata": {
        "colab": {
          "base_uri": "https://localhost:8080/"
        },
        "id": "NqG8yIpFb1sd",
        "outputId": "c4aff222-ea50-482b-e415-0ac4866e10ae"
      },
      "source": [
        "for element in val_dataset.take(1):\n",
        "    print(element[1].shape)\n",
        "    "
      ],
      "execution_count": 23,
      "outputs": [
        {
          "output_type": "stream",
          "name": "stdout",
          "text": [
            "(16, 14)\n"
          ]
        }
      ]
    },
    {
      "cell_type": "markdown",
      "metadata": {
        "id": "Ud2mwiUNb1sd"
      },
      "source": [
        "## 3. Create the custom layer\n",
        "You will now create a custom layer to add the learned end token embedding to the encoder model:\n",
        "\n",
        "![Encoder schematic](data/neural_translation_model_encoder.png)"
      ]
    },
    {
      "cell_type": "markdown",
      "metadata": {
        "id": "xD8oHqVRb1se"
      },
      "source": [
        "You should now build the custom layer.\n",
        "* Using layer subclassing, create a custom layer that takes a batch of English data examples from one of the Datasets, and adds a learned embedded ‘end’ token to the end of each sequence. \n",
        "* This layer should create a TensorFlow Variable (that will be learned during training) that is 128-dimensional (the size of the embedding space). _Hint: you may find it helpful in the call method to use the tf.tile function to replicate the end token embedding across every element in the batch._\n",
        "* Using the Dataset `.take(1)` method, extract a batch of English data examples from the training Dataset and print the shape. Test the custom layer by calling the layer on the English data batch Tensor and print the resulting Tensor shape (the layer should increase the sequence length by one)."
      ]
    },
    {
      "cell_type": "code",
      "metadata": {
        "id": "Do4lrrMMb1se"
      },
      "source": [
        "class CustomLayer(Layer):\n",
        "\n",
        "    def __init__(self, embedding_dim=128, **kwargs):\n",
        "        super(CustomLayer, self).__init__(**kwargs)\n",
        "        self.end_token_ini = tf.Variable(initial_value=tf.random.uniform(shape=(embedding_dim,)), trainable=True)\n",
        "\n",
        "    def call(self, inputs):\n",
        "        end_token = tf.tile(tf.reshape(self.end_token_ini, shape=(1, 1, self.end_token_ini.shape[0])), [tf.shape(inputs)[0],1,1])\n",
        "        return tf.keras.layers.concatenate([inputs, end_token], axis=1)\n",
        "      "
      ],
      "execution_count": 24,
      "outputs": []
    },
    {
      "cell_type": "code",
      "metadata": {
        "colab": {
          "base_uri": "https://localhost:8080/"
        },
        "id": "quoNL4Mbb1se",
        "outputId": "571c01c9-f8b0-446d-b8ca-62b228b91ee6"
      },
      "source": [
        "layer = CustomLayer()\n",
        "for element in train_dataset.take(1):\n",
        "    print(element[0].shape)\n",
        "    print(layer(element[0]).shape)\n"
      ],
      "execution_count": 25,
      "outputs": [
        {
          "output_type": "stream",
          "name": "stdout",
          "text": [
            "(16, 13, 128)\n",
            "(16, 14, 128)\n"
          ]
        }
      ]
    },
    {
      "cell_type": "markdown",
      "metadata": {
        "id": "oEgLyZJvb1se"
      },
      "source": [
        "## 4. Build the encoder network\n",
        "The encoder network follows the schematic diagram above. You should now build the RNN encoder model.\n",
        "* Using the functional API, build the encoder network according to the following spec:\n",
        "    * The model will take a batch of sequences of embedded English words as input, as given by the Dataset objects.\n",
        "    * The next layer in the encoder will be the custom layer you created previously, to add a learned end token embedding to the end of the English sequence.\n",
        "    * This is followed by a Masking layer, with the `mask_value` set to the distinct padding value you used when you padded the English sequences with the Dataset preprocessing above.\n",
        "    * The final layer is an LSTM layer with 512 units, which also returns the hidden and cell states.\n",
        "    * The encoder is a multi-output model. There should be two output Tensors of this model: the hidden state and cell states of the LSTM layer. The output of the LSTM layer is unused.\n",
        "* Using the Dataset `.take(1)` method, extract a batch of English data examples from the training Dataset and test the encoder model by calling it on the English data Tensor, and print the shape of the resulting Tensor outputs.\n",
        "* Print the model summary for the encoder network."
      ]
    },
    {
      "cell_type": "code",
      "metadata": {
        "id": "W7Olf1WBb1sf"
      },
      "source": [
        "inputs = Input(batch_shape=(None, 13, 128))\n",
        "h = layer(inputs)\n",
        "h = Masking(mask_value = 0)(h)\n",
        "h, hidden_state, cell_state = LSTM(512, return_state=True)(h)\n",
        "encoder = Model(inputs=inputs, outputs=[hidden_state, cell_state])"
      ],
      "execution_count": 26,
      "outputs": []
    },
    {
      "cell_type": "code",
      "metadata": {
        "colab": {
          "base_uri": "https://localhost:8080/"
        },
        "id": "KZdvJJ1Gb1sf",
        "outputId": "a511755a-ec36-4371-e5fc-094212f8ef32"
      },
      "source": [
        "for element in train_dataset.take(1):\n",
        "    \n",
        "    print(encoder(element[0])[0].shape)    "
      ],
      "execution_count": 27,
      "outputs": [
        {
          "output_type": "stream",
          "name": "stdout",
          "text": [
            "(16, 512)\n"
          ]
        }
      ]
    },
    {
      "cell_type": "code",
      "metadata": {
        "colab": {
          "base_uri": "https://localhost:8080/"
        },
        "id": "fZ8i2wiQb1sf",
        "outputId": "75aac335-5613-437c-ecf3-d1a35d4fc919"
      },
      "source": [
        "encoder.summary()"
      ],
      "execution_count": 28,
      "outputs": [
        {
          "output_type": "stream",
          "name": "stdout",
          "text": [
            "Model: \"model\"\n",
            "_________________________________________________________________\n",
            " Layer (type)                Output Shape              Param #   \n",
            "=================================================================\n",
            " input_1 (InputLayer)        [(None, 13, 128)]         0         \n",
            "                                                                 \n",
            " custom_layer (CustomLayer)  (None, 14, 128)           128       \n",
            "                                                                 \n",
            " masking (Masking)           (None, 14, 128)           0         \n",
            "                                                                 \n",
            " lstm (LSTM)                 [(None, 512),             1312768   \n",
            "                              (None, 512),                       \n",
            "                              (None, 512)]                       \n",
            "                                                                 \n",
            "=================================================================\n",
            "Total params: 1,312,896\n",
            "Trainable params: 1,312,896\n",
            "Non-trainable params: 0\n",
            "_________________________________________________________________\n"
          ]
        }
      ]
    },
    {
      "cell_type": "code",
      "metadata": {
        "id": "AGdQ8BqrXAnC"
      },
      "source": [
        "#encoder.load_weights(directory + '/my_encoder')"
      ],
      "execution_count": 29,
      "outputs": []
    },
    {
      "cell_type": "markdown",
      "metadata": {
        "id": "NmdImssgb1sf"
      },
      "source": [
        "## 5. Build the decoder network\n",
        "The decoder network follows the schematic diagram below. \n",
        "\n",
        "![Decoder schematic](data/neural_translation_model_decoder.png)"
      ]
    },
    {
      "cell_type": "markdown",
      "metadata": {
        "id": "TW1itz6hb1sg"
      },
      "source": [
        "You should now build the RNN decoder model.\n",
        "* Using Model subclassing, build the decoder network according to the following spec:\n",
        "    * The initializer should create the following layers:\n",
        "        * An Embedding layer with vocabulary size set to the number of unique German tokens, embedding dimension 128, and set to mask zero values in the input.\n",
        "        * An LSTM layer with 512 units, that returns its hidden and cell states, and also returns sequences.\n",
        "        * A Dense layer with number of units equal to the number of unique German tokens, and no activation function.\n",
        "    * The call method should include the usual `inputs` argument, as well as the additional keyword arguments `hidden_state` and `cell_state`. The default value for these keyword arguments should be `None`.\n",
        "    * The call method should pass the inputs through the Embedding layer, and then through the LSTM layer. If the `hidden_state` and `cell_state` arguments are provided, these should be used for the initial state of the LSTM layer. _Hint: use the_ `initial_state` _keyword argument when calling the LSTM layer on its input._\n",
        "    * The call method should pass the LSTM output sequence through the Dense layer, and return the resulting Tensor, along with the hidden and cell states of the LSTM layer.\n",
        "* Using the Dataset `.take(1)` method, extract a batch of English and German data examples from the training Dataset. Test the decoder model by first calling the encoder model on the English data Tensor to get the hidden and cell states, and then call the decoder model on the German data Tensor and hidden and cell states, and print the shape of the resulting decoder Tensor outputs.\n",
        "* Print the model summary for the decoder network."
      ]
    },
    {
      "cell_type": "code",
      "metadata": {
        "id": "0Dyobv31b1sg"
      },
      "source": [
        "vocab_size= len(tokenizer.word_index) + 1\n",
        "\n",
        "class DecoderM(Model):\n",
        "    \n",
        "    def __init__(self, **kwargs):\n",
        "        super(DecoderM, self).__init__(**kwargs)\n",
        "        self.emb_layer = Embedding(vocab_size, output_dim = 128, mask_zero=True)\n",
        "        self.myLSTM = LSTM(512, return_sequences=True, return_state=True)\n",
        "        self.myDense = Dense(vocab_size)\n",
        "    \n",
        "    def call(self, inputs, hidden_state=None, cell_state=None):\n",
        "        h = self.emb_layer(inputs)\n",
        "        if hidden_state is not None and cell_state is not None:\n",
        "            h, hidden_s, cell_s = self.myLSTM(h, initial_state=[hidden_state, cell_state])\n",
        "        else:    \n",
        "            h, hidden_s, cell_s = self.myLSTM(h)\n",
        "        h = self.myDense(h)\n",
        "        return h, hidden_s, cell_s \n",
        "    "
      ],
      "execution_count": 30,
      "outputs": []
    },
    {
      "cell_type": "code",
      "metadata": {
        "id": "K55W9CzDb1sg"
      },
      "source": [
        "decoder = DecoderM()\n"
      ],
      "execution_count": 31,
      "outputs": []
    },
    {
      "cell_type": "code",
      "metadata": {
        "colab": {
          "base_uri": "https://localhost:8080/"
        },
        "id": "5L4oE85Wb1sg",
        "outputId": "ec2be72e-77cb-404f-b659-cc17d16e0f11"
      },
      "source": [
        "for element in train_dataset.take(1):\n",
        "    enc_hidden_s, enc_cell_s = encoder(element[0])\n",
        "    h, hidden_s, cell_s = decoder(element[1], enc_hidden_s, enc_cell_s)\n",
        "    #print(element[1].shape)\n",
        "       \n",
        "print(h.shape, hidden_s.shape, cell_s.shape)   \n",
        " \n",
        "    "
      ],
      "execution_count": 32,
      "outputs": [
        {
          "output_type": "stream",
          "name": "stdout",
          "text": [
            "(16, 14, 5744) (16, 512) (16, 512)\n"
          ]
        }
      ]
    },
    {
      "cell_type": "code",
      "metadata": {
        "scrolled": true,
        "colab": {
          "base_uri": "https://localhost:8080/"
        },
        "id": "FNfRVlhrb1sg",
        "outputId": "cb5829aa-737d-4bc8-da2b-72aa9946b174"
      },
      "source": [
        "decoder.summary()"
      ],
      "execution_count": 33,
      "outputs": [
        {
          "output_type": "stream",
          "name": "stdout",
          "text": [
            "Model: \"decoder_m\"\n",
            "_________________________________________________________________\n",
            " Layer (type)                Output Shape              Param #   \n",
            "=================================================================\n",
            " embedding (Embedding)       multiple                  735232    \n",
            "                                                                 \n",
            " lstm_1 (LSTM)               multiple                  1312768   \n",
            "                                                                 \n",
            " dense (Dense)               multiple                  2946672   \n",
            "                                                                 \n",
            "=================================================================\n",
            "Total params: 4,994,672\n",
            "Trainable params: 4,994,672\n",
            "Non-trainable params: 0\n",
            "_________________________________________________________________\n"
          ]
        }
      ]
    },
    {
      "cell_type": "markdown",
      "metadata": {
        "id": "3-aGu6aab1sg"
      },
      "source": [
        "## 6. Make a custom training loop\n",
        "You should now write a custom training loop to train your custom neural translation model.\n",
        "* Define a function that takes a Tensor batch of German data (as extracted from the training Dataset), and returns a tuple containing German inputs and outputs for the decoder model (refer to schematic diagram above).\n",
        "* Define a function that computes the forward and backward pass for your translation model. This function should take an English input, German input and German output as arguments, and should do the following:\n",
        "    * Pass the English input into the encoder, to get the hidden and cell states of the encoder LSTM.\n",
        "    * These hidden and cell states are then passed into the decoder, along with the German inputs, which returns a sequence of outputs (the hidden and cell state outputs of the decoder LSTM are unused in this function).\n",
        "    * The loss should then be computed between the decoder outputs and the German output function argument.\n",
        "    * The function returns the loss and gradients with respect to the encoder and decoder’s trainable variables.\n",
        "    * Decorate the function with @tf.function\n",
        "* Define and run a custom training loop for a number of epochs (for you to choose) that does the following:\n",
        "    * Iterates through the training dataset, and creates decoder inputs and outputs from the German sequences.\n",
        "    * Updates the parameters of the translation model using the gradients of the function above and an optimizer object.\n",
        "    * Every epoch, compute the validation loss on a number of batches from the validation and save the epoch training and validation losses.\n",
        "* Plot the learning curves for loss vs epoch for both training and validation sets.\n",
        "\n",
        "_Hint: This model is computationally demanding to train. The quality of the model or length of training is not a factor in the grading rubric. However, to obtain a better model we recommend using the GPU accelerator hardware on Colab._"
      ]
    },
    {
      "cell_type": "code",
      "metadata": {
        "id": "aq52pld2b1sh"
      },
      "source": [
        "def create_inputs_and_targets(german):\n",
        "    \n",
        "    inputs = german[:, :-1]\n",
        "    outputs = german[:, 1:] \n",
        "     \n",
        "    return (inputs, outputs)"
      ],
      "execution_count": 35,
      "outputs": []
    },
    {
      "cell_type": "code",
      "metadata": {
        "id": "05LS5hnrb1sh"
      },
      "source": [
        "#input_seq, target_seq = create_inputs_and_targets(train_dataset)"
      ],
      "execution_count": 36,
      "outputs": []
    },
    {
      "cell_type": "code",
      "metadata": {
        "id": "F0U0Sc_caV0t"
      },
      "source": [
        "loss_object = tf.keras.losses.SparseCategoricalCrossentropy(from_logits=True)\n",
        "optimizer = tf.keras.optimizers.Adam(learning_rate=0.001)\n",
        "trainable_variables = encoder.trainable_variables + decoder.trainable_variables"
      ],
      "execution_count": 37,
      "outputs": []
    },
    {
      "cell_type": "code",
      "metadata": {
        "id": "zanWt02Ib1sh"
      },
      "source": [
        "\n",
        "@tf.function\n",
        "def computes_fwd_back(english_in, german_in, german_out, encoder, decoder,\n",
        "                      optimizer, loss_object):\n",
        "    with tf.GradientTape() as tape:\n",
        "        enc_hidden_s, enc_cell_s = encoder(english_in)\n",
        "        h, hidden_s, cell_s = decoder(german_in, enc_hidden_s, enc_cell_s) \n",
        "        loss = loss_object(german_out, h)\n",
        "        #print(\"LOSS\",loss)\n",
        "        #print(\"H\",h.take(1))\n",
        "        grads = tape.gradient(loss, trainable_variables)\n",
        "    return loss, grads"
      ],
      "execution_count": 38,
      "outputs": []
    },
    {
      "cell_type": "code",
      "metadata": {
        "id": "nR2RMVXiiTvA"
      },
      "source": [
        "def training_loop(num_epochs, encoder, decoder, optimizer, loss_object):\n",
        "    tr_epoch_losses = []\n",
        "    val_epoch_losses = []\n",
        "\n",
        "    for epoch in range(num_epochs):\n",
        "        tr_batch_losses = []\n",
        "        for english, german in train_dataset:\n",
        "            german_in, german_out = create_inputs_and_targets(german)  \n",
        "            tr_loss, tr_grads = computes_fwd_back(english, german_in, \n",
        "                                                  german_out, encoder, \n",
        "                                                  decoder, optimizer, \n",
        "                                                  loss_object)\n",
        "            \n",
        "            \n",
        "            tr_batch_losses.append(tr_loss)\n",
        "            optimizer.apply_gradients(zip(tr_grads, trainable_variables))   \n",
        "        tr_epoch_losses.append(np.mean(tr_batch_losses))   \n",
        "\n",
        "        val_batch_losses = []\n",
        "        for eng, ger in val_dataset:\n",
        "            ger_in, ger_out = create_inputs_and_targets(ger)  \n",
        "            venc_hidden_s, venc_cell_s = encoder(eng)\n",
        "            vh, vhidden_s, vcell_s = decoder(ger_in, venc_hidden_s, venc_cell_s)\n",
        "            val_batch_losses.append(loss_object(ger_out, vh))\n",
        "        val_epoch_losses.append(np.mean(val_batch_losses))\n",
        "\n",
        "        print(\"Epoch : {:03d}\".format(epoch)) \n",
        "        \n",
        "    return tr_epoch_losses, val_epoch_losses\n"
      ],
      "execution_count": 39,
      "outputs": []
    },
    {
      "cell_type": "code",
      "metadata": {
        "colab": {
          "base_uri": "https://localhost:8080/"
        },
        "id": "f9GgRLDaVmzg",
        "outputId": "bda2c3db-41c1-4fd5-d87d-2a9d48f15d1f"
      },
      "source": [
        "tr_epoch_losses, val_epoch_losses = training_loop(5, encoder, decoder, optimizer, loss_object)"
      ],
      "execution_count": 40,
      "outputs": [
        {
          "output_type": "stream",
          "name": "stdout",
          "text": [
            "Epoch : 000\n",
            "Epoch : 001\n",
            "Epoch : 002\n",
            "Epoch : 003\n",
            "Epoch : 004\n"
          ]
        }
      ]
    },
    {
      "cell_type": "code",
      "metadata": {
        "colab": {
          "base_uri": "https://localhost:8080/",
          "height": 350
        },
        "id": "-E66fdfnnCTw",
        "outputId": "b3b03541-ba23-4cd6-ad44-e36baec8ac4d"
      },
      "source": [
        "plt.figure(figsize=(15,5))\n",
        "plt.plot(tr_epoch_losses)\n",
        "plt.plot(val_epoch_losses)\n",
        "plt.title('Loss vs Epoch')\n",
        "plt.ylabel('Loss')\n",
        "plt.xlabel('Epoch')\n",
        "plt.legend(['training', 'validation'])\n",
        "plt.show()"
      ],
      "execution_count": 41,
      "outputs": [
        {
          "output_type": "display_data",
          "data": {
            "image/png": "[encoded data removed]",
            "text/plain": [
              "<Figure size 1080x360 with 1 Axes>"
            ]
          },
          "metadata": {
            "needs_background": "light"
          }
        }
      ]
    },
    {
      "cell_type": "markdown",
      "metadata": {
        "id": "Hn3jz3lfb1sh"
      },
      "source": [
        "## 7. Use the model to translate\n",
        "Now it's time to put your model into practice! You should run your translation for five randomly sampled English sentences from the dataset. For each sentence, the process is as follows:\n",
        "* Preprocess and embed the English sentence according to the model requirements.\n",
        "* Pass the embedded sentence through the encoder to get the encoder hidden and cell states.\n",
        "* Starting with the special  `\"<start>\"` token, use this token and the final encoder hidden and cell states to get the one-step prediction from the decoder, as well as the decoder’s updated hidden and cell states.\n",
        "* Create a loop to get the next step prediction and updated hidden and cell states from the decoder, using the most recent hidden and cell states. Terminate the loop when the `\"<end>\"` token is emitted, or when the sentence has reached a maximum length.\n",
        "* Decode the output token sequence into German text and print the English text and the model's German translation."
      ]
    },
    {
      "cell_type": "code",
      "metadata": {
        "id": "-RjnFmncb1sh"
      },
      "source": [
        "idx = np.random.choice(len(eng_sent)-1, 5, replace=False)\n",
        "\n",
        "samples = []\n",
        "german_text = []\n",
        "for i in idx:\n",
        "  samples.append(eng_sent[i])\n",
        "  german_text.append(ger_sent[i])\n",
        "\n",
        "samples = [eng_sent[i] for i in idx]\n",
        "german_text = [ger_sent[i] for i in idx]\n"
      ],
      "execution_count": 73,
      "outputs": []
    },
    {
      "cell_type": "code",
      "metadata": {
        "id": "Agci2_ALb1sh",
        "colab": {
          "base_uri": "https://localhost:8080/"
        },
        "outputId": "a7136e97-9ce0-4805-e93a-7f69634912c7"
      },
      "source": [
        "\n",
        "for i, sentence in enumerate(samples):\n",
        "    \n",
        "    english = tf.strings.split(sentence, sep=' ')\n",
        "    my_range = len(english) \n",
        "    \n",
        "    english = embedding_layer(english)\n",
        "    padding = [[13 - tf.shape(english)[0],0],[0,0]]\n",
        "    english = tf.pad(english, padding)   \n",
        "    english = np.expand_dims(english, 0)\n",
        "    e_hidden, e_cell = encoder(english)\n",
        "    decoder_input = tf.Variable([[tokenizer.word_index['<start>']]])\n",
        "    \n",
        "    trans = []\n",
        "    for j in range(train_dataset.element_spec[1].shape[1]):\n",
        "      \n",
        "      h, e_hidden, e_cell = decoder(decoder_input, e_hidden, e_cell)\n",
        "      h = tf.squeeze(tf.argmax(h, axis=2)).numpy()\n",
        "      if h == tokenizer.word_index['<end>']:\n",
        "        break\n",
        "      \n",
        "      trans.append(tokenizer.index_word[h])\n",
        "      \n",
        "      decoder_input = tf.Variable([[h]])\n",
        "      \n",
        "    trans = ' '.join(trans)\n",
        "    print(\"English: \", sentence)\n",
        "    print(\"German text\", german_text[i])\n",
        "    print(\"German translated: \", trans)\n",
        "\n",
        "    "
      ],
      "execution_count": 74,
      "outputs": [
        {
          "output_type": "stream",
          "name": "stdout",
          "text": [
            "English:  can i come over ?\n",
            "German text <start> kann ich zu dir kommen ? <end>\n",
            "German translated:  darf ich vorangehen ?\n",
            "English:  i know tom well .\n",
            "German text <start> ich kenne tom gut . <end>\n",
            "German translated:  ich weiss , dass tom es weiss .\n",
            "English:  you're a genius .\n",
            "German text <start> du bist ein genie ! <end>\n",
            "German translated:  du bist ein spion .\n",
            "English:  was it scary ?\n",
            "German text <start> war es unheimlich ? <end>\n",
            "German translated:  war es unheimlich ?\n",
            "English:  release tom .\n",
            "German text <start> lassen sie tom frei ! <end>\n",
            "German translated:  fange tom !\n"
          ]
        }
      ]
    }
  ]
}